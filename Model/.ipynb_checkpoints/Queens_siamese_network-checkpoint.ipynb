{
 "cells": [
  {
   "cell_type": "markdown",
   "metadata": {},
   "source": [
    "# ENV setting"
   ]
  },
  {
   "cell_type": "code",
   "execution_count": 1,
   "metadata": {},
   "outputs": [],
   "source": [
    "import os\n",
    "import sys\n",
    "import random\n",
    "import warnings\n",
    "\n",
    "import numpy as np\n",
    "import pandas as pd\n",
    "\n",
    "import matplotlib.pyplot as plt\n",
    "\n",
    "from tqdm.auto import tqdm\n",
    "from itertools import chain\n",
    "from skimage.io import imread, imshow, imread_collection, concatenate_images\n",
    "from skimage.transform import resize\n",
    "from skimage.morphology import label\n",
    "\n",
    "from tensorflow.keras.models import Model, load_model, Sequential\n",
    "from tensorflow.keras.layers import Input\n",
    "from tensorflow.keras.layers import BatchNormalization, Flatten, Dense, Conv2D, Conv2DTranspose, Dropout, Lambda, MaxPooling2D, concatenate, UpSampling2D\n",
    "from tensorflow.keras.callbacks import EarlyStopping, ModelCheckpoint\n",
    "from tensorflow.keras import backend as K\n",
    "import tensorflow as tf\n",
    "\n",
    "from tensorflow.keras.optimizers import Adam\n",
    "from tensorflow.keras.layers import Conv2D, ZeroPadding2D, Activation, Input, concatenate\n",
    "from tensorflow.keras.initializers import glorot_uniform\n",
    "from tensorflow.keras.regularizers import l2"
   ]
  },
  {
   "cell_type": "markdown",
   "metadata": {},
   "source": [
    "# Load Train datasets\n",
    "- 사전에 mritopng 라이브러리를 이용하여 png 형태로 변환하였습니다.\n",
    "- 변환이 되지 않는 몇개의 데이터는 제거하였습니다."
   ]
  },
  {
   "cell_type": "code",
   "execution_count": 161,
   "metadata": {},
   "outputs": [
    {
     "name": "stdout",
     "output_type": "stream",
     "text": [
      "CLASS NAME: F1\n"
     ]
    },
    {
     "data": {
      "application/vnd.jupyter.widget-view+json": {
       "model_id": "f4386601f70a400890ee7d1c51f04be0",
       "version_major": 2,
       "version_minor": 0
      },
      "text/plain": [
       "HBox(children=(FloatProgress(value=0.0, max=2176.0), HTML(value='')))"
      ]
     },
     "metadata": {},
     "output_type": "display_data"
    },
    {
     "name": "stdout",
     "output_type": "stream",
     "text": [
      "\n",
      "CLASS NAME: F2\n"
     ]
    },
    {
     "data": {
      "application/vnd.jupyter.widget-view+json": {
       "model_id": "56364de3be6349a998163d8855e9ed0a",
       "version_major": 2,
       "version_minor": 0
      },
      "text/plain": [
       "HBox(children=(FloatProgress(value=0.0, max=4615.0), HTML(value='')))"
      ]
     },
     "metadata": {},
     "output_type": "display_data"
    },
    {
     "name": "stdout",
     "output_type": "stream",
     "text": [
      "\n",
      "CLASS NAME: F3\n"
     ]
    },
    {
     "data": {
      "application/vnd.jupyter.widget-view+json": {
       "model_id": "4600b2b76f5e4551a21644bba9174b34",
       "version_major": 2,
       "version_minor": 0
      },
      "text/plain": [
       "HBox(children=(FloatProgress(value=0.0, max=3315.0), HTML(value='')))"
      ]
     },
     "metadata": {},
     "output_type": "display_data"
    },
    {
     "name": "stdout",
     "output_type": "stream",
     "text": [
      "\n"
     ]
    }
   ],
   "source": [
    "IMG_WIDTH    = 254 # for faster computing on kaggle\n",
    "IMG_HEIGHT   = 254 # for faster computing on kaggle\n",
    "IMG_CHANNELS = 1\n",
    "BATCH_SIZE   = 32\n",
    "\n",
    "TRAIN_PATH = \"./train_png\"\n",
    "TEST_PATH  = \"./test_png\"\n",
    "\n",
    "CLASS_NAMES   = [\"F1\", \"F2\", \"F3\"]\n",
    "\n",
    "F1_train_path = os.path.join(TRAIN_PATH, CLASS_NAMES[0])\n",
    "F2_train_path = os.path.join(TRAIN_PATH, CLASS_NAMES[1])\n",
    "F3_train_path = os.path.join(TRAIN_PATH, CLASS_NAMES[2])\n",
    "\n",
    "F1_train_ids  = os.listdir(F1_train_path)\n",
    "F2_train_ids  = os.listdir(F2_train_path)\n",
    "F3_train_ids  = os.listdir(F3_train_path)\n",
    "\n",
    "tot_train_ids = len(F1_train_ids) + len(F2_train_ids) + len(F3_train_ids)\n",
    "\n",
    "X_train = np.zeros((tot_train_ids, IMG_HEIGHT, IMG_WIDTH, IMG_CHANNELS), dtype=np.uint8)\n",
    "X_train_inverse = np.zeros((tot_train_ids, IMG_HEIGHT, IMG_WIDTH, IMG_CHANNELS), dtype=np.uint8)\n",
    "Y_train = np.zeros(tot_train_ids, dtype=np.uint8)\n",
    "\n",
    "counter = 0\n",
    "for class_index, fibrosis_class in enumerate(CLASS_NAMES):\n",
    "    print(f\"CLASS NAME: {fibrosis_class}\")\n",
    "    \n",
    "    if fibrosis_class == \"F1\":\n",
    "        class_path = F1_train_path\n",
    "        train_ids = os.listdir(class_path)\n",
    "    elif fibrosis_class == \"F2\":\n",
    "        class_path = F2_train_path\n",
    "        train_ids = os.listdir(class_path)\n",
    "    elif fibrosis_class == \"F3\":\n",
    "        class_path = F3_train_path\n",
    "        train_ids = os.listdir(class_path)\n",
    "    \n",
    "    for i, id_ in tqdm(enumerate(train_ids), total=len(train_ids)):\n",
    "        path = os.path.join(class_path, id_)\n",
    "        img = imread(path)\n",
    "\n",
    "        img = img.reshape(img.shape[0], img.shape[1], -1)\n",
    "\n",
    "        img = resize(img, (IMG_HEIGHT, IMG_WIDTH), mode='constant', preserve_range=True)\n",
    "        img_inverse = 255 - img\n",
    "\n",
    "        X_train[counter]   = img / 255\n",
    "        X_train_inverse[counter] = img_inverse / 255\n",
    "\n",
    "        Y_train[counter] = class_index\n",
    "        \n",
    "        counter += 1"
   ]
  },
  {
   "cell_type": "code",
   "execution_count": 162,
   "metadata": {
    "scrolled": true
   },
   "outputs": [
    {
     "name": "stdout",
     "output_type": "stream",
     "text": [
      "2176\n",
      "4615\n",
      "3315\n"
     ]
    }
   ],
   "source": [
    "print(sum(Y_train == 0))\n",
    "print(sum(Y_train == 1))\n",
    "print(sum(Y_train == 2))"
   ]
  },
  {
   "cell_type": "code",
   "execution_count": 163,
   "metadata": {},
   "outputs": [],
   "source": [
    "from sklearn.utils import shuffle\n",
    "from tensorflow.keras.utils import to_categorical\n",
    "\n",
    "X_train, X_train_inverse, Y_train = shuffle(X_train, X_train_inverse, Y_train, random_state=10)\n",
    "\n",
    "x_train_left  = X_train[:int(X_train.shape[0]*0.8)]\n",
    "x_train_right = X_train_inverse[:int(X_train.shape[0]*0.8)]\n",
    "y_train       = to_categorical(Y_train[:int(X_train.shape[0]*0.8)], 3)\n",
    "\n",
    "x_val_left    = X_train[int(X_train.shape[0]*0.8):]\n",
    "x_val_right   = X_train_inverse[int(X_train.shape[0]*0.8):]\n",
    "y_val         = to_categorical(Y_train[int(X_train.shape[0]*0.8):], 3)"
   ]
  },
  {
   "cell_type": "code",
   "execution_count": 164,
   "metadata": {
    "scrolled": true
   },
   "outputs": [
    {
     "data": {
      "text/plain": [
       "array([[0., 1., 0.],\n",
       "       [0., 1., 0.],\n",
       "       [0., 1., 0.],\n",
       "       [0., 1., 0.],\n",
       "       [1., 0., 0.],\n",
       "       [0., 1., 0.],\n",
       "       [1., 0., 0.],\n",
       "       [0., 1., 0.],\n",
       "       [1., 0., 0.],\n",
       "       [0., 0., 1.]], dtype=float32)"
      ]
     },
     "execution_count": 164,
     "metadata": {},
     "output_type": "execute_result"
    }
   ],
   "source": [
    "y_train[:10]"
   ]
  },
  {
   "cell_type": "code",
   "execution_count": 271,
   "metadata": {},
   "outputs": [
    {
     "ename": "SyntaxError",
     "evalue": "invalid syntax (<ipython-input-271-19cb1160d87d>, line 2)",
     "output_type": "error",
     "traceback": [
      "\u001b[0;36m  File \u001b[0;32m\"<ipython-input-271-19cb1160d87d>\"\u001b[0;36m, line \u001b[0;32m2\u001b[0m\n\u001b[0;31m    - Siamese Network를 이용하였습니다.\u001b[0m\n\u001b[0m                     ^\u001b[0m\n\u001b[0;31mSyntaxError\u001b[0m\u001b[0;31m:\u001b[0m invalid syntax\n"
     ]
    }
   ],
   "source": [
    "# Define model\n",
    "- Siamese Network를 이용하였습니다.\n",
    "- 영상 특성을 고려하여 일반 영상과 반전 영상을 같이 학습시킨 후 최종적으로 판단할 때, 함께 고려할 수 있도록 배치하였습니다."
   ]
  },
  {
   "cell_type": "code",
   "execution_count": 166,
   "metadata": {},
   "outputs": [
    {
     "name": "stdout",
     "output_type": "stream",
     "text": [
      "Model: \"model_11\"\n",
      "__________________________________________________________________________________________________\n",
      "Layer (type)                    Output Shape         Param #     Connected to                     \n",
      "==================================================================================================\n",
      "input_31 (InputLayer)           [(None, 254, 254, 1) 0                                            \n",
      "__________________________________________________________________________________________________\n",
      "input_32 (InputLayer)           [(None, 254, 254, 1) 0                                            \n",
      "__________________________________________________________________________________________________\n",
      "sequential_15 (Sequential)      (None, 1000)         34043560    input_31[0][0]                   \n",
      "                                                                 input_32[0][0]                   \n",
      "__________________________________________________________________________________________________\n",
      "concatenate_12 (Concatenate)    (None, 2000)         0           sequential_15[1][0]              \n",
      "                                                                 sequential_15[2][0]              \n",
      "__________________________________________________________________________________________________\n",
      "dense_68 (Dense)                (None, 1000)         2001000     concatenate_12[0][0]             \n",
      "__________________________________________________________________________________________________\n",
      "dropout_49 (Dropout)            (None, 1000)         0           dense_68[0][0]                   \n",
      "__________________________________________________________________________________________________\n",
      "dense_69 (Dense)                (None, 500)          500500      dropout_49[0][0]                 \n",
      "__________________________________________________________________________________________________\n",
      "dropout_50 (Dropout)            (None, 500)          0           dense_69[0][0]                   \n",
      "__________________________________________________________________________________________________\n",
      "dense_70 (Dense)                (None, 3)            1503        dropout_50[0][0]                 \n",
      "==================================================================================================\n",
      "Total params: 36,546,563\n",
      "Trainable params: 36,546,563\n",
      "Non-trainable params: 0\n",
      "__________________________________________________________________________________________________\n"
     ]
    }
   ],
   "source": [
    "def get_siamese_model(input_shape):\n",
    "    \"\"\"\n",
    "        Model architecture based on the one provided in: http://www.cs.utoronto.ca/~gkoch/files/msc-thesis.pdf\n",
    "    \"\"\"\n",
    "\n",
    "    # Define the tensors for the two input images\n",
    "    left_input = Input(input_shape)\n",
    "    right_input = Input(input_shape)\n",
    "\n",
    "    # Convolutional Neural Network\n",
    "    model = Sequential()\n",
    "    model.add(Conv2D(filters=96, input_shape=(input_shape[0], input_shape[1], 1), kernel_size=(11, 11), strides=4, padding='same'))\n",
    "    model.add(Activation('relu'))\n",
    "    \n",
    "    model.add(Conv2D(filters=256, kernel_size=(5, 5), strides=2, padding='same'))\n",
    "    model.add(Activation('relu'))\n",
    "\n",
    "    model.add(MaxPooling2D(pool_size=(3, 3), strides=2))\n",
    "\n",
    "    model.add(Conv2D(filters=384, kernel_size=(3, 3), strides=1, padding='same'))\n",
    "    model.add(Activation('relu'))\n",
    "\n",
    "    model.add(MaxPooling2D(pool_size=(3, 3), strides=2))\n",
    "\n",
    "    model.add(Conv2D(filters=384, kernel_size=(3, 3), strides=1, padding='same'))\n",
    "    model.add(Activation('relu'))\n",
    "\n",
    "    model.add(Conv2D(filters=256, kernel_size=(3, 3), strides=1, padding='same'))\n",
    "    model.add(Activation('relu'))\n",
    "    model.add(MaxPooling2D(pool_size=(3, 3), strides=2))\n",
    "\n",
    "    model.add(Flatten())\n",
    "\n",
    "    model.add(Dense(4096))\n",
    "    model.add(Activation('relu'))\n",
    "    model.add(Dropout(0.4))\n",
    "\n",
    "    model.add(Dense(4096))\n",
    "    model.add(Activation('relu'))\n",
    "    model.add(Dropout(0.4))\n",
    "\n",
    "    model.add(Dense(1000))\n",
    "    model.add(Activation('relu'))\n",
    "    model.add(Dropout(0.4))\n",
    "\n",
    "    # Generate the encodings (feature vectors) for the two images\n",
    "    encoded_l = model(left_input)\n",
    "    encoded_r = model(right_input)\n",
    "\n",
    "    # Add a customized layer to compute the absolute difference between the encodings\n",
    "#     L1_layer = Lambda(lambda tensors:K.abs(tensors[0] - tensors[1]))\n",
    "#     L1_distance = L1_layer([encoded_l, encoded_r])\n",
    "    L1_layer = concatenate([encoded_l, encoded_r])\n",
    "    \n",
    "    # Add a dense layer with a sigmoid unit to generate the similarity score\n",
    "    L2_layer = Dense(1000, activation='relu')(L1_layer)\n",
    "    D1_layer = Dropout(0.5)(L2_layer)\n",
    "    L3_layer = Dense(500, activation='relu')(D1_layer)\n",
    "    D2_layer = Dropout(0.5)(L3_layer)\n",
    "    prediction = Dense(3, activation='softmax')(D2_layer)\n",
    "\n",
    "    # Connect the inputs with the outputs\n",
    "    siamese_net = Model(inputs=[left_input,right_input], outputs=prediction)\n",
    "\n",
    "    # return the model\n",
    "    return siamese_net\n",
    "\n",
    "model = get_siamese_model((IMG_HEIGHT, IMG_WIDTH, IMG_CHANNELS))\n",
    "\n",
    "optimizer = Adam()\n",
    "model.compile(loss=\"categorical_crossentropy\",optimizer=optimizer, metrics=['accuracy'])\n",
    "\n",
    "model.summary()"
   ]
  },
  {
   "cell_type": "code",
   "execution_count": 167,
   "metadata": {},
   "outputs": [],
   "source": [
    "# Fit model\n",
    "earlystop_callback = EarlyStopping(patience=10, verbose=1)\n",
    "checkpoint_path = os.path.join(\"training_checkpoints\")\n",
    "checkpoint_perfix = os.path.join(checkpoint_path, \"ckpt_{epoch}\")\n",
    "checkpoint_callback = ModelCheckpoint(\n",
    "            filepath=checkpoint_perfix, save_weights_only=True, save_best_only=True\n",
    "        )\n",
    "\n",
    "results = model.fit([x_train_left, x_train_right], y_train,\n",
    "                    batch_size=128,\n",
    "                    epochs=200,\n",
    "                    validation_data=([x_val_left, x_val_right], y_val),\n",
    "                    callbacks=[earlystop_callback, checkpoint_callback]\n",
    "                   )"
   ]
  },
  {
   "cell_type": "code",
   "execution_count": 272,
   "metadata": {},
   "outputs": [],
   "source": [
    "# Test Data"
   ]
  },
  {
   "cell_type": "code",
   "execution_count": 257,
   "metadata": {},
   "outputs": [
    {
     "name": "stdout",
     "output_type": "stream",
     "text": [
      "CLASS NAME: F1\n"
     ]
    },
    {
     "data": {
      "application/vnd.jupyter.widget-view+json": {
       "model_id": "6dc7b5f122c74bf282b5ba4f3320c96b",
       "version_major": 2,
       "version_minor": 0
      },
      "text/plain": [
       "HBox(children=(FloatProgress(value=0.0, max=378.0), HTML(value='')))"
      ]
     },
     "metadata": {},
     "output_type": "display_data"
    },
    {
     "name": "stdout",
     "output_type": "stream",
     "text": [
      "\n",
      "CLASS NAME: F2\n"
     ]
    },
    {
     "data": {
      "application/vnd.jupyter.widget-view+json": {
       "model_id": "1ae7c14fc815495ba501137db6422086",
       "version_major": 2,
       "version_minor": 0
      },
      "text/plain": [
       "HBox(children=(FloatProgress(value=0.0, max=373.0), HTML(value='')))"
      ]
     },
     "metadata": {},
     "output_type": "display_data"
    },
    {
     "name": "stdout",
     "output_type": "stream",
     "text": [
      "\n",
      "CLASS NAME: F3\n"
     ]
    },
    {
     "data": {
      "application/vnd.jupyter.widget-view+json": {
       "model_id": "baa4c378884f4055bb2011ae6cfba84e",
       "version_major": 2,
       "version_minor": 0
      },
      "text/plain": [
       "HBox(children=(FloatProgress(value=0.0, max=360.0), HTML(value='')))"
      ]
     },
     "metadata": {},
     "output_type": "display_data"
    },
    {
     "name": "stdout",
     "output_type": "stream",
     "text": [
      "\n"
     ]
    }
   ],
   "source": [
    "TEST_PATH  = \"./test_png\"\n",
    "\n",
    "CLASS_NAMES   = [\"F1\", \"F2\", \"F3\"]\n",
    "\n",
    "F1_test_path = os.path.join(TEST_PATH, CLASS_NAMES[0])\n",
    "F2_test_path = os.path.join(TEST_PATH, CLASS_NAMES[1])\n",
    "F3_test_path = os.path.join(TEST_PATH, CLASS_NAMES[2])\n",
    "\n",
    "F1_test_ids  = os.listdir(F1_test_path)\n",
    "F2_test_ids  = os.listdir(F2_test_path)\n",
    "F3_test_ids  = os.listdir(F3_test_path)\n",
    "\n",
    "tot_test_ids = len(F1_test_ids) + len(F2_test_ids) + len(F3_test_ids)\n",
    "\n",
    "X_test = np.zeros((tot_test_ids, IMG_HEIGHT, IMG_WIDTH, IMG_CHANNELS), dtype=np.uint8)\n",
    "X_test_inverse = np.zeros((tot_test_ids, IMG_HEIGHT, IMG_WIDTH, IMG_CHANNELS), dtype=np.uint8)\n",
    "Y_test = np.zeros(tot_test_ids, dtype=np.uint8)\n",
    "\n",
    "counter = 0\n",
    "test_id_holder = []\n",
    "for class_index, fibrosis_class in enumerate(CLASS_NAMES):\n",
    "    print(f\"CLASS NAME: {fibrosis_class}\")\n",
    "    \n",
    "    if fibrosis_class == \"F1\":\n",
    "        class_path = F1_test_path\n",
    "        test_ids = os.listdir(class_path)\n",
    "    elif fibrosis_class == \"F2\":\n",
    "        class_path = F2_test_path\n",
    "        test_ids = os.listdir(class_path)\n",
    "    elif fibrosis_class == \"F3\":\n",
    "        class_path = F3_test_path\n",
    "        test_ids = os.listdir(class_path)\n",
    "        \n",
    "    for i, id_ in tqdm(enumerate(test_ids), total=len(test_ids)):\n",
    "        test_id_holder.append(id_)\n",
    "        path = os.path.join(class_path, id_)\n",
    "        img = imread(path)\n",
    "\n",
    "        img = img.reshape(img.shape[0], img.shape[1], -1)\n",
    "\n",
    "        img = resize(img, (IMG_HEIGHT, IMG_WIDTH), mode='constant', preserve_range=True)\n",
    "        img_inverse = 255 - img\n",
    "\n",
    "        X_test[counter]   = img / 255\n",
    "        X_test_inverse[counter] = img_inverse / 255\n",
    "\n",
    "        Y_test[counter] = class_index\n",
    "        counter += 1"
   ]
  },
  {
   "cell_type": "code",
   "execution_count": 258,
   "metadata": {},
   "outputs": [
    {
     "name": "stdout",
     "output_type": "stream",
     "text": [
      "378\n",
      "373\n",
      "360\n"
     ]
    }
   ],
   "source": [
    "print(sum(Y_test == 0))\n",
    "print(sum(Y_test == 1))\n",
    "print(sum(Y_test == 2))"
   ]
  },
  {
   "cell_type": "code",
   "execution_count": 259,
   "metadata": {},
   "outputs": [],
   "source": [
    "x_test_left  = X_test\n",
    "x_test_right = X_test_inverse\n",
    "y_test       = to_categorical(Y_test, 3)\n",
    "\n",
    "# X_test_left, x_test_right, y_test = shuffle(x_test_left, x_test_right, y_test, random_state=0)"
   ]
  },
  {
   "cell_type": "code",
   "execution_count": 260,
   "metadata": {},
   "outputs": [
    {
     "data": {
      "text/plain": [
       "array([[1., 0., 0.],\n",
       "       [1., 0., 0.],\n",
       "       [1., 0., 0.],\n",
       "       [1., 0., 0.],\n",
       "       [1., 0., 0.],\n",
       "       [1., 0., 0.],\n",
       "       [1., 0., 0.],\n",
       "       [1., 0., 0.],\n",
       "       [1., 0., 0.],\n",
       "       [1., 0., 0.]], dtype=float32)"
      ]
     },
     "execution_count": 260,
     "metadata": {},
     "output_type": "execute_result"
    }
   ],
   "source": [
    "y_test[:10]"
   ]
  },
  {
   "cell_type": "markdown",
   "metadata": {},
   "source": [
    "# 성능 평가\n",
    "- 정확도 96.7% 달성"
   ]
  },
  {
   "cell_type": "code",
   "execution_count": 261,
   "metadata": {},
   "outputs": [
    {
     "data": {
      "text/plain": [
       "0.9666966696669667"
      ]
     },
     "execution_count": 261,
     "metadata": {},
     "output_type": "execute_result"
    }
   ],
   "source": [
    "# latest = checkpoint_path\n",
    "# model.load_weights(latest)\n",
    "\n",
    "pred = model.predict([x_test_left, x_test_right])\n",
    "\n",
    "res = []\n",
    "true = []\n",
    "\n",
    "for p in pred:\n",
    "    res.append(np.argmax(p))\n",
    "\n",
    "\n",
    "for t in y_test:\n",
    "    true.append(np.argmax(t))\n",
    "    \n",
    "acc = 0\n",
    "tot = len(pred)\n",
    "\n",
    "for i in range(tot):\n",
    "    if res[i] == true[i]:\n",
    "        acc += 1\n",
    "\n",
    "acc / tot"
   ]
  },
  {
   "cell_type": "code",
   "execution_count": 214,
   "metadata": {
    "scrolled": false
   },
   "outputs": [
    {
     "data": {
      "text/plain": [
       "array([[368,   0,   0],\n",
       "       [  1, 361,  15],\n",
       "       [  9,  12, 345]])"
      ]
     },
     "execution_count": 214,
     "metadata": {},
     "output_type": "execute_result"
    }
   ],
   "source": [
    "from sklearn.metrics import confusion_matrix\n",
    "\n",
    "conf_mat = confusion_matrix(np.array(res), np.array(true))\n",
    "conf_mat"
   ]
  },
  {
   "cell_type": "code",
   "execution_count": 221,
   "metadata": {
    "scrolled": true
   },
   "outputs": [
    {
     "name": "stdout",
     "output_type": "stream",
     "text": [
      "TPR: [1.         0.95755968 0.94262295]\n",
      "FPR: [0.01345895 0.01634877 0.02013423]\n",
      "ACC: [0.9909991  0.97479748 0.96759676]\n"
     ]
    }
   ],
   "source": [
    "# metrics\n",
    "\n",
    "FP = conf_mat.sum(axis=0) - np.diag(conf_mat)\n",
    "FN = conf_mat.sum(axis=1) - np.diag(conf_mat)\n",
    "TP = np.diag(conf_mat)\n",
    "TN = conf_mat.sum() - (FP + FN + TP)\n",
    "\n",
    "FP = FP.astype(float)\n",
    "FN = FN.astype(float)\n",
    "TP = TP.astype(float)\n",
    "TN = TN.astype(float)\n",
    "\n",
    "TPR = TP/(TP+FN)\n",
    "FPR = FP/(FP+TN)\n",
    "\n",
    "ACC = (TP + TN)/(TP+FP+FN+TN)\n",
    "\n",
    "print(f\"TPR: {TPR}\\nFPR: {FPR}\\nACC: {ACC}\")"
   ]
  },
  {
   "cell_type": "markdown",
   "metadata": {},
   "source": [
    "# ROC plot"
   ]
  },
  {
   "cell_type": "code",
   "execution_count": 270,
   "metadata": {},
   "outputs": [
    {
     "name": "stderr",
     "output_type": "stream",
     "text": [
      "/home/fitogether/anaconda3/envs/ohcoach/lib/python3.6/site-packages/ipykernel_launcher.py:32: DeprecationWarning: scipy.interp is deprecated and will be removed in SciPy 2.0.0, use numpy.interp instead\n"
     ]
    },
    {
     "data": {
      "image/png": "[encoded data removed]",
      "text/plain": [
       "<Figure size 432x288 with 1 Axes>"
      ]
     },
     "metadata": {
      "needs_background": "light"
     },
     "output_type": "display_data"
    },
    {
     "data": {
      "image/png": "[encoded data removed]",
      "text/plain": [
       "<Figure size 432x288 with 1 Axes>"
      ]
     },
     "metadata": {
      "needs_background": "light"
     },
     "output_type": "display_data"
    }
   ],
   "source": [
    "from scipy import interp\n",
    "import matplotlib.pyplot as plt\n",
    "from itertools import cycle\n",
    "from sklearn.metrics import roc_curve, auc\n",
    "\n",
    "# Plot linewidth.\n",
    "lw = 2\n",
    "\n",
    "# Compute ROC curve and ROC area for each class\n",
    "fpr = dict()\n",
    "tpr = dict()\n",
    "roc_auc = dict()\n",
    "\n",
    "n_classes = len(CLASS_NAMES)\n",
    "\n",
    "for i in range(n_classes):\n",
    "    fpr[i], tpr[i], _ = roc_curve(y_test[:, i], pred[:, i])\n",
    "    roc_auc[i] = auc(fpr[i], tpr[i])\n",
    "\n",
    "# Compute micro-average ROC curve and ROC area\n",
    "fpr[\"micro\"], tpr[\"micro\"], _ = roc_curve(y_test.ravel(), pred.ravel())\n",
    "roc_auc[\"micro\"] = auc(fpr[\"micro\"], tpr[\"micro\"])\n",
    "\n",
    "# Compute macro-average ROC curve and ROC area\n",
    "\n",
    "# First aggregate all false positive rates\n",
    "all_fpr = np.unique(np.concatenate([fpr[i] for i in range(n_classes)]))\n",
    "\n",
    "# Then interpolate all ROC curves at this points\n",
    "mean_tpr = np.zeros_like(all_fpr)\n",
    "for i in range(n_classes):\n",
    "    mean_tpr += interp(all_fpr, fpr[i], tpr[i])\n",
    "\n",
    "# Finally average it and compute AUC\n",
    "mean_tpr /= n_classes\n",
    "\n",
    "fpr[\"macro\"] = all_fpr\n",
    "tpr[\"macro\"] = mean_tpr\n",
    "roc_auc[\"macro\"] = auc(fpr[\"macro\"], tpr[\"macro\"])\n",
    "\n",
    "# Plot all ROC curves\n",
    "plt.figure(1)\n",
    "plt.plot(fpr[\"micro\"], tpr[\"micro\"],\n",
    "         label='micro-average ROC curve (area = {0:0.2f})'\n",
    "               ''.format(roc_auc[\"micro\"]),\n",
    "         color='deeppink', linestyle=':', linewidth=4)\n",
    "\n",
    "plt.plot(fpr[\"macro\"], tpr[\"macro\"],\n",
    "         label='macro-average ROC curve (area = {0:0.2f})'\n",
    "               ''.format(roc_auc[\"macro\"]),\n",
    "         color='navy', linestyle=':', linewidth=4)\n",
    "\n",
    "colors = cycle(['aqua', 'darkorange', 'cornflowerblue'])\n",
    "for i, color in zip(range(n_classes), colors):\n",
    "    plt.plot(fpr[i], tpr[i], color=color, lw=lw,\n",
    "             label='ROC curve of class {0} (area = {1:0.2f})'\n",
    "             ''.format(i, roc_auc[i]))\n",
    "\n",
    "plt.plot([0, 1], [0, 1], 'k--', lw=lw)\n",
    "plt.xlim([0.0, 1.0])\n",
    "plt.ylim([0.0, 1.05])\n",
    "plt.xlabel('False Positive Rate')\n",
    "plt.ylabel('True Positive Rate')\n",
    "plt.title('Fiborosis Classification ROC')\n",
    "plt.legend(loc=\"lower right\")\n",
    "plt.show()\n",
    "\n",
    "\n",
    "# Zoom in view of the upper left corner.\n",
    "plt.figure(2)\n",
    "plt.xlim(0, 0.2)\n",
    "plt.ylim(0.8, 1)\n",
    "plt.plot(fpr[\"micro\"], tpr[\"micro\"],\n",
    "         label='micro-average ROC curve (area = {0:0.2f})'\n",
    "               ''.format(roc_auc[\"micro\"]),\n",
    "         color='deeppink', linestyle=':', linewidth=4)\n",
    "\n",
    "plt.plot(fpr[\"macro\"], tpr[\"macro\"],\n",
    "         label='macro-average ROC curve (area = {0:0.2f})'\n",
    "               ''.format(roc_auc[\"macro\"]),\n",
    "         color='navy', linestyle=':', linewidth=4)\n",
    "\n",
    "colors = cycle(['aqua', 'darkorange', 'cornflowerblue'])\n",
    "for i, color in zip(range(n_classes), colors):\n",
    "    plt.plot(fpr[i], tpr[i], color=color, lw=lw,\n",
    "             label='ROC curve of class {0} (area = {1:0.2f})'\n",
    "             ''.format(i, roc_auc[i]))\n",
    "\n",
    "plt.plot([0, 1], [0, 1], 'k--', lw=lw)\n",
    "plt.xlabel('False Positive Rate')\n",
    "plt.ylabel('True Positive Rate')\n",
    "plt.title('Fiborosis Classification ROC: Zoomed')\n",
    "plt.legend(loc=\"lower right\")\n",
    "plt.show()"
   ]
  },
  {
   "cell_type": "code",
   "execution_count": 207,
   "metadata": {},
   "outputs": [
    {
     "data": {
      "text/html": [
       "<div>\n",
       "<style scoped>\n",
       "    .dataframe tbody tr th:only-of-type {\n",
       "        vertical-align: middle;\n",
       "    }\n",
       "\n",
       "    .dataframe tbody tr th {\n",
       "        vertical-align: top;\n",
       "    }\n",
       "\n",
       "    .dataframe thead th {\n",
       "        text-align: right;\n",
       "    }\n",
       "</style>\n",
       "<table border=\"1\" class=\"dataframe\">\n",
       "  <thead>\n",
       "    <tr style=\"text-align: right;\">\n",
       "      <th></th>\n",
       "      <th>FileName</th>\n",
       "      <th>Predicted</th>\n",
       "    </tr>\n",
       "  </thead>\n",
       "  <tbody>\n",
       "    <tr>\n",
       "      <th>0</th>\n",
       "      <td>46.png</td>\n",
       "      <td>0</td>\n",
       "    </tr>\n",
       "    <tr>\n",
       "      <th>1</th>\n",
       "      <td>54.png</td>\n",
       "      <td>0</td>\n",
       "    </tr>\n",
       "    <tr>\n",
       "      <th>2</th>\n",
       "      <td>49.png</td>\n",
       "      <td>0</td>\n",
       "    </tr>\n",
       "    <tr>\n",
       "      <th>3</th>\n",
       "      <td>249.png</td>\n",
       "      <td>0</td>\n",
       "    </tr>\n",
       "    <tr>\n",
       "      <th>4</th>\n",
       "      <td>92.png</td>\n",
       "      <td>0</td>\n",
       "    </tr>\n",
       "    <tr>\n",
       "      <th>...</th>\n",
       "      <td>...</td>\n",
       "      <td>...</td>\n",
       "    </tr>\n",
       "    <tr>\n",
       "      <th>1106</th>\n",
       "      <td>1100.png</td>\n",
       "      <td>2</td>\n",
       "    </tr>\n",
       "    <tr>\n",
       "      <th>1107</th>\n",
       "      <td>818.png</td>\n",
       "      <td>2</td>\n",
       "    </tr>\n",
       "    <tr>\n",
       "      <th>1108</th>\n",
       "      <td>812.png</td>\n",
       "      <td>2</td>\n",
       "    </tr>\n",
       "    <tr>\n",
       "      <th>1109</th>\n",
       "      <td>1083.png</td>\n",
       "      <td>2</td>\n",
       "    </tr>\n",
       "    <tr>\n",
       "      <th>1110</th>\n",
       "      <td>848.png</td>\n",
       "      <td>2</td>\n",
       "    </tr>\n",
       "  </tbody>\n",
       "</table>\n",
       "<p>1111 rows × 2 columns</p>\n",
       "</div>"
      ],
      "text/plain": [
       "      FileName Predicted\n",
       "0       46.png         0\n",
       "1       54.png         0\n",
       "2       49.png         0\n",
       "3      249.png         0\n",
       "4       92.png         0\n",
       "...        ...       ...\n",
       "1106  1100.png         2\n",
       "1107   818.png         2\n",
       "1108   812.png         2\n",
       "1109  1083.png         2\n",
       "1110   848.png         2\n",
       "\n",
       "[1111 rows x 2 columns]"
      ]
     },
     "execution_count": 207,
     "metadata": {},
     "output_type": "execute_result"
    }
   ],
   "source": [
    "result = pd.DataFrame([test_id_holder, res]).T\n",
    "result.columns = ['FileName', 'Predicted']\n",
    "result"
   ]
  },
  {
   "cell_type": "markdown",
   "metadata": {},
   "source": [
    "# Val"
   ]
  },
  {
   "cell_type": "code",
   "execution_count": 252,
   "metadata": {},
   "outputs": [
    {
     "name": "stdout",
     "output_type": "stream",
     "text": [
      "3168\n"
     ]
    },
    {
     "data": {
      "application/vnd.jupyter.widget-view+json": {
       "model_id": "ee65239e31564f7fad110b120184a153",
       "version_major": 2,
       "version_minor": 0
      },
      "text/plain": [
       "HBox(children=(FloatProgress(value=0.0, max=3168.0), HTML(value='')))"
      ]
     },
     "metadata": {},
     "output_type": "display_data"
    },
    {
     "name": "stdout",
     "output_type": "stream",
     "text": [
      "\n"
     ]
    }
   ],
   "source": [
    "VAL_PATH  = \"./val_whole\"\n",
    "\n",
    "val_ids  = os.listdir(VAL_PATH)\n",
    "print(len(val_ids))\n",
    "\n",
    "tot_val_ids = len(val_ids)\n",
    "\n",
    "X_val = np.zeros((tot_val_ids, IMG_HEIGHT, IMG_WIDTH, IMG_CHANNELS), dtype=np.uint8)\n",
    "X_val_inverse = np.zeros((tot_val_ids, IMG_HEIGHT, IMG_WIDTH, IMG_CHANNELS), dtype=np.uint8)\n",
    "\n",
    "counter = 0\n",
    "val_id_holder = []\n",
    "\n",
    "for i, id_ in tqdm(enumerate(val_ids), total=len(val_ids)):\n",
    "    try:\n",
    "        path = os.path.join(VAL_PATH, id_)\n",
    "        img = imread(path)\n",
    "\n",
    "        img = img.reshape(img.shape[0], img.shape[1], -1)\n",
    "\n",
    "        img = resize(img, (IMG_HEIGHT, IMG_WIDTH), mode='constant', preserve_range=True)\n",
    "        img_inverse = 255 - img\n",
    "\n",
    "        X_val[counter]         = img / 255\n",
    "        X_val_inverse[counter] = img_inverse / 255\n",
    "\n",
    "        val_id_holder.append(id_)\n",
    "        \n",
    "        counter += 1\n",
    "    except:\n",
    "        print(id_)\n"
   ]
  },
  {
   "cell_type": "code",
   "execution_count": 253,
   "metadata": {},
   "outputs": [],
   "source": [
    "x_val_left = X_val\n",
    "x_val_right = X_val_inverse"
   ]
  },
  {
   "cell_type": "code",
   "execution_count": 254,
   "metadata": {},
   "outputs": [
    {
     "data": {
      "text/html": [
       "<div>\n",
       "<style scoped>\n",
       "    .dataframe tbody tr th:only-of-type {\n",
       "        vertical-align: middle;\n",
       "    }\n",
       "\n",
       "    .dataframe tbody tr th {\n",
       "        vertical-align: top;\n",
       "    }\n",
       "\n",
       "    .dataframe thead th {\n",
       "        text-align: right;\n",
       "    }\n",
       "</style>\n",
       "<table border=\"1\" class=\"dataframe\">\n",
       "  <thead>\n",
       "    <tr style=\"text-align: right;\">\n",
       "      <th></th>\n",
       "      <th>FileName</th>\n",
       "      <th>Predicted</th>\n",
       "    </tr>\n",
       "  </thead>\n",
       "  <tbody>\n",
       "    <tr>\n",
       "      <th>0</th>\n",
       "      <td>46.png</td>\n",
       "      <td>0</td>\n",
       "    </tr>\n",
       "    <tr>\n",
       "      <th>1</th>\n",
       "      <td>726.png</td>\n",
       "      <td>0</td>\n",
       "    </tr>\n",
       "    <tr>\n",
       "      <th>2</th>\n",
       "      <td>2423.png</td>\n",
       "      <td>2</td>\n",
       "    </tr>\n",
       "    <tr>\n",
       "      <th>3</th>\n",
       "      <td>975.png</td>\n",
       "      <td>0</td>\n",
       "    </tr>\n",
       "    <tr>\n",
       "      <th>4</th>\n",
       "      <td>54.png</td>\n",
       "      <td>1</td>\n",
       "    </tr>\n",
       "    <tr>\n",
       "      <th>...</th>\n",
       "      <td>...</td>\n",
       "      <td>...</td>\n",
       "    </tr>\n",
       "    <tr>\n",
       "      <th>3163</th>\n",
       "      <td>3077.png</td>\n",
       "      <td>0</td>\n",
       "    </tr>\n",
       "    <tr>\n",
       "      <th>3164</th>\n",
       "      <td>848.png</td>\n",
       "      <td>1</td>\n",
       "    </tr>\n",
       "    <tr>\n",
       "      <th>3165</th>\n",
       "      <td>9.png</td>\n",
       "      <td>2</td>\n",
       "    </tr>\n",
       "    <tr>\n",
       "      <th>3166</th>\n",
       "      <td>2619.png</td>\n",
       "      <td>0</td>\n",
       "    </tr>\n",
       "    <tr>\n",
       "      <th>3167</th>\n",
       "      <td>3363.png</td>\n",
       "      <td>0</td>\n",
       "    </tr>\n",
       "  </tbody>\n",
       "</table>\n",
       "<p>3168 rows × 2 columns</p>\n",
       "</div>"
      ],
      "text/plain": [
       "      FileName Predicted\n",
       "0       46.png         0\n",
       "1      726.png         0\n",
       "2     2423.png         2\n",
       "3      975.png         0\n",
       "4       54.png         1\n",
       "...        ...       ...\n",
       "3163  3077.png         0\n",
       "3164   848.png         1\n",
       "3165     9.png         2\n",
       "3166  2619.png         0\n",
       "3167  3363.png         0\n",
       "\n",
       "[3168 rows x 2 columns]"
      ]
     },
     "execution_count": 254,
     "metadata": {},
     "output_type": "execute_result"
    }
   ],
   "source": [
    "pred = model.predict([x_val_left, x_val_right])\n",
    "\n",
    "res = []\n",
    "\n",
    "for p in pred:\n",
    "    res.append(np.argmax(p))\n",
    "\n",
    "result = pd.DataFrame([val_id_holder, res]).T\n",
    "result.columns = ['FileName', 'Predicted']\n",
    "result"
   ]
  },
  {
   "cell_type": "code",
   "execution_count": 256,
   "metadata": {},
   "outputs": [
    {
     "name": "stdout",
     "output_type": "stream",
     "text": [
      "Collecting openpyxl\n",
      "\u001b[33m  WARNING: Retrying (Retry(total=4, connect=None, read=None, redirect=None, status=None)) after connection broken by 'ReadTimeoutError(\"HTTPSConnectionPool(host='files.pythonhosted.org', port=443): Read timed out. (read timeout=15)\",)': /packages/95/8c/83563c60489954e5b80f9e2596b93a68e1ac4e4a730deb1aae632066d704/openpyxl-3.0.3.tar.gz\u001b[0m\n",
      "  Downloading openpyxl-3.0.3.tar.gz (172 kB)\n",
      "\u001b[K     |████████████████████████████████| 172 kB 67 kB/s eta 0:00:01\n",
      "\u001b[?25hCollecting jdcal\n",
      "  Downloading jdcal-1.4.1-py2.py3-none-any.whl (9.5 kB)\n",
      "Collecting et_xmlfile\n",
      "  Downloading et_xmlfile-1.0.1.tar.gz (8.4 kB)\n",
      "Building wheels for collected packages: openpyxl, et-xmlfile\n",
      "  Building wheel for openpyxl (setup.py) ... \u001b[?25ldone\n",
      "\u001b[?25h  Created wheel for openpyxl: filename=openpyxl-3.0.3-py2.py3-none-any.whl size=241262 sha256=408f60ac9883c4b5520a064232ea0cb718998988cfe132d103ceeab1a79e1ef2\n",
      "  Stored in directory: /home/fitogether/.cache/pip/wheels/a2/97/2a/d5e43384faa87a34b198b8d75e03e7130e70321ea446f98703\n",
      "  Building wheel for et-xmlfile (setup.py) ... \u001b[?25ldone\n",
      "\u001b[?25h  Created wheel for et-xmlfile: filename=et_xmlfile-1.0.1-py3-none-any.whl size=8915 sha256=764160f053929fec517737cf3aded43f0f9818adf110dc8996b6caa84185cce0\n",
      "  Stored in directory: /home/fitogether/.cache/pip/wheels/ef/92/e0/956c00decf3091294b8800d9104f6169a1adacfaafd122ed42\n",
      "Successfully built openpyxl et-xmlfile\n",
      "Installing collected packages: jdcal, et-xmlfile, openpyxl\n",
      "Successfully installed et-xmlfile-1.0.1 jdcal-1.4.1 openpyxl-3.0.3\n"
     ]
    }
   ],
   "source": [
    "# !pip install openpyxl\n",
    "result.to_excel(\"Queens_result.xlsx\")"
   ]
  },
  {
   "cell_type": "code",
   "execution_count": null,
   "metadata": {},
   "outputs": [],
   "source": []
  }
 ],
 "metadata": {
  "kernelspec": {
   "display_name": "Python 3",
   "language": "python",
   "name": "python3"
  },
  "language_info": {
   "codemirror_mode": {
    "name": "ipython",
    "version": 3
   },
   "file_extension": ".py",
   "mimetype": "text/x-python",
   "name": "python",
   "nbconvert_exporter": "python",
   "pygments_lexer": "ipython3",
   "version": "3.7.1"
  }
 },
 "nbformat": 4,
 "nbformat_minor": 4
}
